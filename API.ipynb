{
 "cells": [
  {
   "cell_type": "markdown",
   "id": "161db3d2-85ff-42b5-8b1d-fe694139aaad",
   "metadata": {},
   "source": [
    "Q1. What is an API? Give an example, where an API is used in real life.\n",
    "\n",
    "Answer-->An API (Application Programming Interface) is a set of protocols, routines, and tools for building software applications. It specifies how software components should interact and enables communication between different software systems.\n",
    "\n",
    "One example of where an API is used in real life is in the integration of third-party services into a website or mobile app.                \n",
    "A travel website may use the API of a hotel booking service to display real-time hotel availability and pricing information to its users. By integrating the API, the travel website can access the hotel booking service's data and functionality without having to build the same functionality from scratch."
   ]
  },
  {
   "cell_type": "code",
   "execution_count": null,
   "id": "6194b2b3-53fd-4e50-ab08-6cafae349c7a",
   "metadata": {},
   "outputs": [],
   "source": []
  },
  {
   "cell_type": "markdown",
   "id": "eb5ad98c-4380-4101-8913-8a893d5dfc72",
   "metadata": {},
   "source": [
    "Q2. Give advantages and disadvantages of using API.\n",
    "\n",
    "Answer--> Advantages of using API:\n",
    "\n",
    "1 Time and cost savings: APIs allow developers to build applications more quickly and cost-effectively by leveraging existing functionality and data from other systems.\n",
    "\n",
    "2 Improved user experience: APIs enable developers to create applications that integrate with other systems, providing a more seamless and user-friendly experience for end-users.\n",
    "\n",
    "3 Scalability: APIs can help make applications more scalable, as developers can build applications that rely on other systems to handle certain functionality and data.\n",
    "\n",
    "Disdvantages of using API:\n",
    "\n",
    "1 Security risks: APIs can pose security risks if they are not properly secured and authenticated, leaving sensitive data and functionality exposed to potential threats.\n",
    "\n",
    "2 Complexity: APIs can be complex and require a significant amount of development and integration work, which can be time-consuming and costly.\n",
    "\n",
    "3 Dependency on third-party systems: APIs can create dependencies on third-party systems, which can be problematic if those systems experience downtime, changes in functionality, or other issues."
   ]
  },
  {
   "cell_type": "code",
   "execution_count": null,
   "id": "7ed9e2eb-fb09-4418-b537-13beebba9578",
   "metadata": {},
   "outputs": [],
   "source": []
  },
  {
   "cell_type": "markdown",
   "id": "e49a4c19-36a4-4726-8b89-c97ba61ccddd",
   "metadata": {},
   "source": [
    "Q3. What is a Web API? Differentiate between API and Web API.\n",
    "\n",
    "Answer--> A Web API (also known as a web service API) is an API that is accessed over the web using HTTP or HTTPS protocols. It enables communication between web-based applications and other software systems, allowing them to exchange data and functionality.\n",
    "\n",
    "The main difference between API and Web API is the way they are accessed. An API can refer to any type of interface that enables communication between different software systems, while a Web API specifically refers to APIs that are accessed over the web using HTTP or HTTPS protocols. Web API comes under the API protocol."
   ]
  },
  {
   "cell_type": "code",
   "execution_count": null,
   "id": "687c92ef-15c2-4f28-b375-2dafbdbd9a70",
   "metadata": {},
   "outputs": [],
   "source": []
  },
  {
   "cell_type": "markdown",
   "id": "8be10e71-2fb6-4a8c-b558-b6879ab3d4a4",
   "metadata": {},
   "source": [
    "Q4. Explain REST and SOAP Architecture. Mention shortcomings of SOAP.\n",
    "\n",
    "Answer--> REST (Representational State Transfer) and SOAP (Simple Object Access Protocol) are two popular architectures used for building APIs.\n",
    "\n",
    "REST architecture is a simple and lightweight architecture use JSON and XML messeging formate and it is based on the principles of the web. It uses HTTP methods like GET, POST, PUT, and DELETE to perform operations on resources and uses URLs to identify and manipulate resources. REST APIs are stateless and allow caching, which can improve performance. REST is widely used for building web-based APIs and is particularly popular in mobile app development.\n",
    "\n",
    "SOAP architecture, on the other hand, is a more complex and heavyweight architecture that uses XML as its message format. SOAP APIs typically use RPC-style communication and require a WSDL (Web Services Description Language) file to describe the service. SOAP APIs are known for being secure and reliable, and are often used in enterprise applications that require strong security and reliability.\n",
    "\n",
    "Some shortcomings of SOAP are : \n",
    "\n",
    "1 SOAP is a complex and heavyweight protocol that can be difficult to work with. It requires a significant amount of configuration and can be prone to compatibility issues between different platforms and programming languages.\n",
    "\n",
    "2 Because SOAP uses XML as its message format, it can be less efficient than other protocols like REST. \n",
    "\n",
    "3 SOAP APIs are typically accessed using a SOAP client, which is not supported by all web browsers. This can make it more difficult to use SOAP in web-based applications that need to be accessed by a wide range of users."
   ]
  },
  {
   "cell_type": "code",
   "execution_count": null,
   "id": "c4ddf5bd-084b-4f21-90ca-d575d2a1d42c",
   "metadata": {},
   "outputs": [],
   "source": []
  },
  {
   "cell_type": "markdown",
   "id": "d4b88d85-95cb-4a8d-a89c-9a95909c586a",
   "metadata": {},
   "source": [
    "Q5. Differentiate between REST and SOAP.\n",
    "\n",
    "Answer--> \n",
    "1 Protocol: REST uses HTTP as its protocol, while SOAP can use various protocols, including HTTP, SMTP, and TCP.\n",
    "\n",
    "2 Message format: REST typically uses lightweight data formats such as JSON or XML for message exchange, while SOAP uses XML.\n",
    "\n",
    "3 Statelessness: REST is stateless, meaning that each request is treated as an independent and self-contained unit of work, while SOAP can maintain session state between requests.\n",
    "\n",
    "4 API style: REST uses a resource-based approach, where each resource has a unique URI and is accessed using standard HTTP methods like GET, POST, PUT, and DELETE. SOAP, on the other hand, SOAP uses a service-based approach, where each service has a unique endpoint and can expose multiple operations.\n",
    "\n",
    "5 Caching: REST allows caching of responses to improve performance, while SOAP does not have built-in caching capabilities.\n",
    "\n",
    "6 Complexity: REST is simpler and more lightweight than SOAP, making it easier to implement and maintain. SOAP is more complex and can be more difficult to work with."
   ]
  }
 ],
 "metadata": {
  "kernelspec": {
   "display_name": "Python 3 (ipykernel)",
   "language": "python",
   "name": "python3"
  },
  "language_info": {
   "codemirror_mode": {
    "name": "ipython",
    "version": 3
   },
   "file_extension": ".py",
   "mimetype": "text/x-python",
   "name": "python",
   "nbconvert_exporter": "python",
   "pygments_lexer": "ipython3",
   "version": "3.10.8"
  }
 },
 "nbformat": 4,
 "nbformat_minor": 5
}
